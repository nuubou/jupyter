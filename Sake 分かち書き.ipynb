{
 "cells": [
  {
   "cell_type": "code",
   "execution_count": 1,
   "metadata": {
    "collapsed": false
   },
   "outputs": [],
   "source": [
    "%matplotlib inline"
   ]
  },
  {
   "cell_type": "markdown",
   "metadata": {},
   "source": [
    "# レビューを機械学習できる形にする\n",
    "\n",
    "## gensim版\n",
    "\n",
    "1. 単語辞書をつくる\n",
    "2. 全レビューを分かち書きし、ストップ・ワード処理する\n",
    "3. 全レビューからコーパスをつくる\n",
    "4. 各レビューを行列変換する\n",
    "\n",
    "## HashingTrick版"
   ]
  },
  {
   "cell_type": "code",
   "execution_count": 2,
   "metadata": {
    "collapsed": false
   },
   "outputs": [],
   "source": [
    "import re\n",
    "import gensim\n",
    "import MeCab\n",
    "import pandas as pd"
   ]
  },
  {
   "cell_type": "markdown",
   "metadata": {},
   "source": [
    "### レビュー (tsv) を読み込む"
   ]
  },
  {
   "cell_type": "code",
   "execution_count": 3,
   "metadata": {
    "collapsed": true
   },
   "outputs": [],
   "source": [
    "csv = pd.read_csv( '~/work/sake/review.tsv', delimiter='\\t' )"
   ]
  },
  {
   "cell_type": "code",
   "execution_count": 4,
   "metadata": {
    "collapsed": false
   },
   "outputs": [
    {
     "data": {
      "text/html": [
       "<div>\n",
       "<table border=\"1\" class=\"dataframe\">\n",
       "  <thead>\n",
       "    <tr style=\"text-align: right;\">\n",
       "      <th></th>\n",
       "      <th>code</th>\n",
       "      <th>meigara</th>\n",
       "      <th>review</th>\n",
       "      <th>datetime</th>\n",
       "    </tr>\n",
       "  </thead>\n",
       "  <tbody>\n",
       "    <tr>\n",
       "      <th>0</th>\n",
       "      <td>4</td>\n",
       "      <td>鰊御殿　山田錦</td>\n",
       "      <td>4合瓶900円で安売りだったので買ってみました。あまり期待してなかったのですが、わりと普通に...</td>\n",
       "      <td>2014-09-14 10:32:46</td>\n",
       "    </tr>\n",
       "    <tr>\n",
       "      <th>1</th>\n",
       "      <td>4</td>\n",
       "      <td>北の誉　鰊御殿　純米大吟醸酒</td>\n",
       "      <td>山田錦100％使用。 フルーティな香りと、あっさりした呑み口、 コクのある味わい。 文句の...</td>\n",
       "      <td>2014-05-23 21:35:40</td>\n",
       "    </tr>\n",
       "    <tr>\n",
       "      <th>2</th>\n",
       "      <td>4</td>\n",
       "      <td>純米米しぼり</td>\n",
       "      <td>アルコール度数14-15。精米歩合70％。  香りマイルド、深いコク。 オーソドックスな味わ...</td>\n",
       "      <td>2013-08-28 23:19:33</td>\n",
       "    </tr>\n",
       "    <tr>\n",
       "      <th>3</th>\n",
       "      <td>4</td>\n",
       "      <td>白ラベル</td>\n",
       "      <td>安いが美味いと思う、ぬる燗か常温がいいね、吟醸酒をブレンドして造ってるて噂があるけどどうでし...</td>\n",
       "      <td>2009-07-07 00:43:14</td>\n",
       "    </tr>\n",
       "    <tr>\n",
       "      <th>4</th>\n",
       "      <td>4</td>\n",
       "      <td>純米吟醸『涼しぼり』</td>\n",
       "      <td>近所の酒屋で購入。 「夏のにごり酒」という謳い文句通り、爽やかで呑みやすい。 香りもいいけど...</td>\n",
       "      <td>2008-06-16 23:37:21</td>\n",
       "    </tr>\n",
       "  </tbody>\n",
       "</table>\n",
       "</div>"
      ],
      "text/plain": [
       "   code         meigara                                             review  \\\n",
       "0     4         鰊御殿　山田錦  4合瓶900円で安売りだったので買ってみました。あまり期待してなかったのですが、わりと普通に...   \n",
       "1     4  北の誉　鰊御殿　純米大吟醸酒   山田錦100％使用。 フルーティな香りと、あっさりした呑み口、 コクのある味わい。 文句の...   \n",
       "2     4          純米米しぼり  アルコール度数14-15。精米歩合70％。  香りマイルド、深いコク。 オーソドックスな味わ...   \n",
       "3     4            白ラベル  安いが美味いと思う、ぬる燗か常温がいいね、吟醸酒をブレンドして造ってるて噂があるけどどうでし...   \n",
       "4     4      純米吟醸『涼しぼり』  近所の酒屋で購入。 「夏のにごり酒」という謳い文句通り、爽やかで呑みやすい。 香りもいいけど...   \n",
       "\n",
       "              datetime  \n",
       "0  2014-09-14 10:32:46  \n",
       "1  2014-05-23 21:35:40  \n",
       "2  2013-08-28 23:19:33  \n",
       "3  2009-07-07 00:43:14  \n",
       "4  2008-06-16 23:37:21  "
      ]
     },
     "execution_count": 4,
     "metadata": {},
     "output_type": "execute_result"
    }
   ],
   "source": [
    "csv[:5]"
   ]
  },
  {
   "cell_type": "code",
   "execution_count": 5,
   "metadata": {
    "collapsed": true
   },
   "outputs": [],
   "source": [
    "mecab = MeCab.Tagger(\"-Ochasen\")"
   ]
  },
  {
   "cell_type": "markdown",
   "metadata": {},
   "source": [
    "### 1. 単語辞書を作成する"
   ]
  },
  {
   "cell_type": "code",
   "execution_count": 74,
   "metadata": {
    "collapsed": true
   },
   "outputs": [],
   "source": [
    "single = r\"^[0-9０-９ぁ-んァ-ン！？・　!-/:-@≠\\[-`{-~\\u3001-\\u303F]$\"\n",
    "pair    = r\"^[ぁ-んァ-ン]{2}$\""
   ]
  },
  {
   "cell_type": "code",
   "execution_count": 75,
   "metadata": {
    "collapsed": false
   },
   "outputs": [],
   "source": [
    "def wakachi( s ):\n",
    "    res = mecab.parse( s )\n",
    "    lines = res.split( '\\n' )\n",
    "    words = [ line.split( '\\t' )[0] for line in lines ]\n",
    "    words.remove( 'EOS' )\n",
    "    words.remove( '' )\n",
    "    return words"
   ]
  },
  {
   "cell_type": "code",
   "execution_count": 76,
   "metadata": {
    "collapsed": true
   },
   "outputs": [],
   "source": [
    "def stop_words_set( ws ):\n",
    "    return set ( w for w in ws if re.match( single, w ) is None and re.match( pair, w ) is None )"
   ]
  },
  {
   "cell_type": "code",
   "execution_count": 77,
   "metadata": {
    "collapsed": true
   },
   "outputs": [],
   "source": [
    "def stop_words( ws ):\n",
    "    return [ w for w in ws if re.match( single, w ) is None and re.match( pair, w ) is None ]"
   ]
  },
  {
   "cell_type": "code",
   "execution_count": 78,
   "metadata": {
    "collapsed": true
   },
   "outputs": [],
   "source": [
    "csv['words'] = csv.apply( lambda x: wakachi( x['review'] ), axis=1 )"
   ]
  },
  {
   "cell_type": "code",
   "execution_count": 79,
   "metadata": {
    "collapsed": true
   },
   "outputs": [],
   "source": [
    "csv['tokens'] = csv.apply( lambda x: stop_words_set( x['words'] ), axis=1 )"
   ]
  },
  {
   "cell_type": "code",
   "execution_count": 80,
   "metadata": {
    "collapsed": false
   },
   "outputs": [
    {
     "data": {
      "text/html": [
       "<div>\n",
       "<table border=\"1\" class=\"dataframe\">\n",
       "  <thead>\n",
       "    <tr style=\"text-align: right;\">\n",
       "      <th></th>\n",
       "      <th>code</th>\n",
       "      <th>meigara</th>\n",
       "      <th>review</th>\n",
       "      <th>datetime</th>\n",
       "      <th>words</th>\n",
       "      <th>tokens</th>\n",
       "      <th>tokens2</th>\n",
       "      <th>wc</th>\n",
       "    </tr>\n",
       "  </thead>\n",
       "  <tbody>\n",
       "    <tr>\n",
       "      <th>0</th>\n",
       "      <td>4</td>\n",
       "      <td>鰊御殿　山田錦</td>\n",
       "      <td>4合瓶900円で安売りだったので買ってみました。あまり期待してなかったのですが、わりと普通に...</td>\n",
       "      <td>2014-09-14 10:32:46</td>\n",
       "      <td>[4, 合, 瓶, 900, 円, で, 安売り, だっ, た, ので, 買っ, て, み,...</td>\n",
       "      <td>{なかっ, 普通, 特徴, 感, 900, 香, 安売り, アルコール, ほどよく, 円, ...</td>\n",
       "      <td>[合, 瓶, 900, 円, 安売り, 買っ, あまり, 期待, なかっ, 普通, 旨かっ,...</td>\n",
       "      <td>[合, 瓶, 900, 円, 安売り, 買っ, あまり, 期待, なかっ, 普通, 旨かっ,...</td>\n",
       "    </tr>\n",
       "    <tr>\n",
       "      <th>1</th>\n",
       "      <td>4</td>\n",
       "      <td>北の誉　鰊御殿　純米大吟醸酒</td>\n",
       "      <td>山田錦100％使用。 フルーティな香りと、あっさりした呑み口、 コクのある味わい。 文句の...</td>\n",
       "      <td>2014-05-23 21:35:40</td>\n",
       "      <td>[山田, 錦, 100, ％, 使用, 。, フルーティ, な, 香り, と, 、, あっさ...</td>\n",
       "      <td>{使用, 香り, 文句, 酒, 100, 大, 吟醸, フルーティ, あっさり, 高い, 口...</td>\n",
       "      <td>[山田, 錦, 100, ％, 使用, フルーティ, 香り, あっさり, 呑み, 口, 味わ...</td>\n",
       "      <td>[山田, 錦, 100, ％, 使用, フルーティ, 香り, あっさり, 呑み, 口, 味わ...</td>\n",
       "    </tr>\n",
       "    <tr>\n",
       "      <th>2</th>\n",
       "      <td>4</td>\n",
       "      <td>純米米しぼり</td>\n",
       "      <td>アルコール度数14-15。精米歩合70％。  香りマイルド、深いコク。 オーソドックスな味わ...</td>\n",
       "      <td>2013-08-28 23:19:33</td>\n",
       "      <td>[アルコール, 度数, 14, -, 15, 。, 精米, 歩合, 70, ％, 。, 香り...</td>\n",
       "      <td>{選手, 合う, アルコール, 精米, 苦味, 歩合, オーソドックス, 15, 14, 香...</td>\n",
       "      <td>[アルコール, 度数, 14, 15, 精米, 歩合, 70, ％, 香り, マイルド, 深...</td>\n",
       "      <td>[アルコール, 度数, 14, 15, 精米, 歩合, 70, ％, 香り, マイルド, 深...</td>\n",
       "    </tr>\n",
       "    <tr>\n",
       "      <th>3</th>\n",
       "      <td>4</td>\n",
       "      <td>白ラベル</td>\n",
       "      <td>安いが美味いと思う、ぬる燗か常温がいいね、吟醸酒をブレンドして造ってるて噂があるけどどうでし...</td>\n",
       "      <td>2009-07-07 00:43:14</td>\n",
       "      <td>[安い, が, 美味い, と, 思う, 、, ぬる, 燗, か, 常温, が, いい, ね,...</td>\n",
       "      <td>{燗, 酒, 思う, 吟醸, 美味い, 安い, 造っ, 常温, 噂, でしょ, ブレンド}</td>\n",
       "      <td>[安い, 美味い, 思う, 燗, 常温, 吟醸, 酒, ブレンド, 造っ, 噂, でしょ]</td>\n",
       "      <td>[安い, 美味い, 思う, 燗, 常温, 吟醸, 酒, ブレンド, 造っ, 噂, でしょ]</td>\n",
       "    </tr>\n",
       "    <tr>\n",
       "      <th>4</th>\n",
       "      <td>4</td>\n",
       "      <td>純米吟醸『涼しぼり』</td>\n",
       "      <td>近所の酒屋で購入。 「夏のにごり酒」という謳い文句通り、爽やかで呑みやすい。 香りもいいけど...</td>\n",
       "      <td>2008-06-16 23:37:21</td>\n",
       "      <td>[近所, の, 酒屋, で, 購入, 。, 「, 夏, の, にごり酒, 」, という, 謳...</td>\n",
       "      <td>{近所, 香り, 夏, なかっ, 爽やか, 通り, やすい, 謳い文句, 購入, にごり酒,...</td>\n",
       "      <td>[近所, 酒屋, 購入, 夏, にごり酒, という, 謳い文句, 通り, 爽やか, 呑み, ...</td>\n",
       "      <td>[近所, 酒屋, 購入, 夏, にごり酒, という, 謳い文句, 通り, 爽やか, 呑み, ...</td>\n",
       "    </tr>\n",
       "  </tbody>\n",
       "</table>\n",
       "</div>"
      ],
      "text/plain": [
       "   code         meigara                                             review  \\\n",
       "0     4         鰊御殿　山田錦  4合瓶900円で安売りだったので買ってみました。あまり期待してなかったのですが、わりと普通に...   \n",
       "1     4  北の誉　鰊御殿　純米大吟醸酒   山田錦100％使用。 フルーティな香りと、あっさりした呑み口、 コクのある味わい。 文句の...   \n",
       "2     4          純米米しぼり  アルコール度数14-15。精米歩合70％。  香りマイルド、深いコク。 オーソドックスな味わ...   \n",
       "3     4            白ラベル  安いが美味いと思う、ぬる燗か常温がいいね、吟醸酒をブレンドして造ってるて噂があるけどどうでし...   \n",
       "4     4      純米吟醸『涼しぼり』  近所の酒屋で購入。 「夏のにごり酒」という謳い文句通り、爽やかで呑みやすい。 香りもいいけど...   \n",
       "\n",
       "              datetime                                              words  \\\n",
       "0  2014-09-14 10:32:46  [4, 合, 瓶, 900, 円, で, 安売り, だっ, た, ので, 買っ, て, み,...   \n",
       "1  2014-05-23 21:35:40  [山田, 錦, 100, ％, 使用, 。, フルーティ, な, 香り, と, 、, あっさ...   \n",
       "2  2013-08-28 23:19:33  [アルコール, 度数, 14, -, 15, 。, 精米, 歩合, 70, ％, 。, 香り...   \n",
       "3  2009-07-07 00:43:14  [安い, が, 美味い, と, 思う, 、, ぬる, 燗, か, 常温, が, いい, ね,...   \n",
       "4  2008-06-16 23:37:21  [近所, の, 酒屋, で, 購入, 。, 「, 夏, の, にごり酒, 」, という, 謳...   \n",
       "\n",
       "                                              tokens  \\\n",
       "0  {なかっ, 普通, 特徴, 感, 900, 香, 安売り, アルコール, ほどよく, 円, ...   \n",
       "1  {使用, 香り, 文句, 酒, 100, 大, 吟醸, フルーティ, あっさり, 高い, 口...   \n",
       "2  {選手, 合う, アルコール, 精米, 苦味, 歩合, オーソドックス, 15, 14, 香...   \n",
       "3      {燗, 酒, 思う, 吟醸, 美味い, 安い, 造っ, 常温, 噂, でしょ, ブレンド}   \n",
       "4  {近所, 香り, 夏, なかっ, 爽やか, 通り, やすい, 謳い文句, 購入, にごり酒,...   \n",
       "\n",
       "                                             tokens2  \\\n",
       "0  [合, 瓶, 900, 円, 安売り, 買っ, あまり, 期待, なかっ, 普通, 旨かっ,...   \n",
       "1  [山田, 錦, 100, ％, 使用, フルーティ, 香り, あっさり, 呑み, 口, 味わ...   \n",
       "2  [アルコール, 度数, 14, 15, 精米, 歩合, 70, ％, 香り, マイルド, 深...   \n",
       "3      [安い, 美味い, 思う, 燗, 常温, 吟醸, 酒, ブレンド, 造っ, 噂, でしょ]   \n",
       "4  [近所, 酒屋, 購入, 夏, にごり酒, という, 謳い文句, 通り, 爽やか, 呑み, ...   \n",
       "\n",
       "                                                  wc  \n",
       "0  [合, 瓶, 900, 円, 安売り, 買っ, あまり, 期待, なかっ, 普通, 旨かっ,...  \n",
       "1  [山田, 錦, 100, ％, 使用, フルーティ, 香り, あっさり, 呑み, 口, 味わ...  \n",
       "2  [アルコール, 度数, 14, 15, 精米, 歩合, 70, ％, 香り, マイルド, 深...  \n",
       "3      [安い, 美味い, 思う, 燗, 常温, 吟醸, 酒, ブレンド, 造っ, 噂, でしょ]  \n",
       "4  [近所, 酒屋, 購入, 夏, にごり酒, という, 謳い文句, 通り, 爽やか, 呑み, ...  "
      ]
     },
     "execution_count": 80,
     "metadata": {},
     "output_type": "execute_result"
    }
   ],
   "source": [
    "csv[:5]"
   ]
  },
  {
   "cell_type": "code",
   "execution_count": 81,
   "metadata": {
    "collapsed": false
   },
   "outputs": [],
   "source": [
    "from functools import reduce"
   ]
  },
  {
   "cell_type": "code",
   "execution_count": 82,
   "metadata": {
    "collapsed": false
   },
   "outputs": [
    {
     "data": {
      "text/plain": [
       "12336"
      ]
     },
     "execution_count": 82,
     "metadata": {},
     "output_type": "execute_result"
    }
   ],
   "source": [
    "wdict = reduce( lambda s, x: s | x, list(csv.tokens) )\n",
    "#wdict = reduce( lambda a, x: a + x, [1,2,3,4,5] )\n",
    "len(wdict)"
   ]
  },
  {
   "cell_type": "code",
   "execution_count": 83,
   "metadata": {
    "collapsed": true
   },
   "outputs": [],
   "source": [
    "csv['wc'] = csv.apply( lambda x: stop_words( x['words'] ), axis=1 )"
   ]
  },
  {
   "cell_type": "code",
   "execution_count": 84,
   "metadata": {
    "collapsed": false
   },
   "outputs": [],
   "source": [
    "def wc( a, items ):\n",
    "    for x in items:\n",
    "        if x not in a:\n",
    "            a[x] = 1\n",
    "        else:\n",
    "            a[x] += 1\n",
    "    return a"
   ]
  },
  {
   "cell_type": "code",
   "execution_count": 85,
   "metadata": {
    "collapsed": false
   },
   "outputs": [],
   "source": [
    "wc = reduce( lambda a, x: wc( a, x ), list(csv.wc), dict() )"
   ]
  },
  {
   "cell_type": "code",
   "execution_count": 86,
   "metadata": {
    "collapsed": false
   },
   "outputs": [],
   "source": [
    "wdf = pd.DataFrame( list(wc.items()), columns=['word', 'count'] )"
   ]
  },
  {
   "cell_type": "code",
   "execution_count": 87,
   "metadata": {
    "collapsed": false
   },
   "outputs": [],
   "source": [
    "sorted_wdf = wdf.sort_values( 'count', ascending=False )"
   ]
  },
  {
   "cell_type": "code",
   "execution_count": 89,
   "metadata": {
    "collapsed": false
   },
   "outputs": [
    {
     "data": {
      "text/html": [
       "<div>\n",
       "<table border=\"1\" class=\"dataframe\">\n",
       "  <thead>\n",
       "    <tr style=\"text-align: right;\">\n",
       "      <th></th>\n",
       "      <th>word</th>\n",
       "      <th>count</th>\n",
       "    </tr>\n",
       "  </thead>\n",
       "  <tbody>\n",
       "    <tr>\n",
       "      <th>7190</th>\n",
       "      <td>酒</td>\n",
       "      <td>5995</td>\n",
       "    </tr>\n",
       "    <tr>\n",
       "      <th>1512</th>\n",
       "      <td>米</td>\n",
       "      <td>2148</td>\n",
       "    </tr>\n",
       "    <tr>\n",
       "      <th>8807</th>\n",
       "      <td>感じ</td>\n",
       "      <td>2039</td>\n",
       "    </tr>\n",
       "    <tr>\n",
       "      <th>5267</th>\n",
       "      <td>香り</td>\n",
       "      <td>2005</td>\n",
       "    </tr>\n",
       "    <tr>\n",
       "      <th>11092</th>\n",
       "      <td>味</td>\n",
       "      <td>1918</td>\n",
       "    </tr>\n",
       "    <tr>\n",
       "      <th>9614</th>\n",
       "      <td>飲み</td>\n",
       "      <td>1498</td>\n",
       "    </tr>\n",
       "    <tr>\n",
       "      <th>11761</th>\n",
       "      <td>純</td>\n",
       "      <td>1276</td>\n",
       "    </tr>\n",
       "    <tr>\n",
       "      <th>1228</th>\n",
       "      <td>吟醸</td>\n",
       "      <td>1267</td>\n",
       "    </tr>\n",
       "    <tr>\n",
       "      <th>2857</th>\n",
       "      <td>飲ん</td>\n",
       "      <td>1103</td>\n",
       "    </tr>\n",
       "    <tr>\n",
       "      <th>10961</th>\n",
       "      <td>味わい</td>\n",
       "      <td>1011</td>\n",
       "    </tr>\n",
       "    <tr>\n",
       "      <th>6217</th>\n",
       "      <td>口</td>\n",
       "      <td>920</td>\n",
       "    </tr>\n",
       "    <tr>\n",
       "      <th>9863</th>\n",
       "      <td>日本</td>\n",
       "      <td>877</td>\n",
       "    </tr>\n",
       "    <tr>\n",
       "      <th>3681</th>\n",
       "      <td>中</td>\n",
       "      <td>806</td>\n",
       "    </tr>\n",
       "    <tr>\n",
       "      <th>2671</th>\n",
       "      <td>酸味</td>\n",
       "      <td>804</td>\n",
       "    </tr>\n",
       "    <tr>\n",
       "      <th>6294</th>\n",
       "      <td>思い</td>\n",
       "      <td>792</td>\n",
       "    </tr>\n",
       "    <tr>\n",
       "      <th>769</th>\n",
       "      <td>辛口</td>\n",
       "      <td>781</td>\n",
       "    </tr>\n",
       "    <tr>\n",
       "      <th>11698</th>\n",
       "      <td>甘味</td>\n",
       "      <td>771</td>\n",
       "    </tr>\n",
       "    <tr>\n",
       "      <th>3747</th>\n",
       "      <td>香</td>\n",
       "      <td>770</td>\n",
       "    </tr>\n",
       "    <tr>\n",
       "      <th>7442</th>\n",
       "      <td>的</td>\n",
       "      <td>735</td>\n",
       "    </tr>\n",
       "    <tr>\n",
       "      <th>5115</th>\n",
       "      <td>良い</td>\n",
       "      <td>728</td>\n",
       "    </tr>\n",
       "  </tbody>\n",
       "</table>\n",
       "</div>"
      ],
      "text/plain": [
       "      word  count\n",
       "7190     酒   5995\n",
       "1512     米   2148\n",
       "8807    感じ   2039\n",
       "5267    香り   2005\n",
       "11092    味   1918\n",
       "9614    飲み   1498\n",
       "11761    純   1276\n",
       "1228    吟醸   1267\n",
       "2857    飲ん   1103\n",
       "10961  味わい   1011\n",
       "6217     口    920\n",
       "9863    日本    877\n",
       "3681     中    806\n",
       "2671    酸味    804\n",
       "6294    思い    792\n",
       "769     辛口    781\n",
       "11698   甘味    771\n",
       "3747     香    770\n",
       "7442     的    735\n",
       "5115    良い    728"
      ]
     },
     "execution_count": 89,
     "metadata": {},
     "output_type": "execute_result"
    }
   ],
   "source": [
    "sorted_wdf[:20]"
   ]
  },
  {
   "cell_type": "code",
   "execution_count": null,
   "metadata": {
    "collapsed": true
   },
   "outputs": [],
   "source": []
  }
 ],
 "metadata": {
  "kernelspec": {
   "display_name": "Python 3",
   "language": "python",
   "name": "python3"
  },
  "language_info": {
   "codemirror_mode": {
    "name": "ipython",
    "version": 3
   },
   "file_extension": ".py",
   "mimetype": "text/x-python",
   "name": "python",
   "nbconvert_exporter": "python",
   "pygments_lexer": "ipython3",
   "version": "3.5.1"
  }
 },
 "nbformat": 4,
 "nbformat_minor": 0
}
