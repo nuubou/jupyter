{
 "cells": [
  {
   "cell_type": "markdown",
   "metadata": {},
   "source": [
    "# ロジスティック回帰\n",
    "\n",
    "## 概要\n",
    "\n",
    "### ロジスティック回帰とは\n",
    "\n",
    "ロジスティック回帰分析は目的変数が1となる確率を予測します。\n",
    "\n",
    "### ロジスティック回帰の活用例\n",
    "\n",
    "* キャンペーンの反応率\n",
    "* 土砂災害発生危険基準線の確率\n",
    "* 医療における症例の発生確率"
   ]
  },
  {
   "cell_type": "markdown",
   "metadata": {},
   "source": [
    "## ロジスティック回帰モデル(2クラス分類)\n",
    "\n",
    "$$ \\sigma\\big( a \\big)  = \\frac{1}{1 + exp(-a)} $$\n",
    "\n",
    "$$ p \\big( C_{1}|\\phi \\big) = y\\big( \\phi \\big) = \\sigma\\big( w^{T}\\phi \\big)  $$\n",
    "\n",
    "$$ p \\big( C_{1}|\\phi \\big) = \\frac{1}{1 + exp(- w^{T}\\phi)} $$\n",
    "\n",
    "<div style=\"text-align: right;\">p204. 4.3.2 ロジスティック回帰</div>"
   ]
  },
  {
   "cell_type": "markdown",
   "metadata": {},
   "source": [
    "## 最尤法を用いたパラメータ(w)決定\n",
    "\n",
    "### 交差エントロピー誤差関数(cross-entropy error function)\n",
    "\n",
    "$$ \\nabla E\\big(w\\big) = \\sum_{n=1}^{N} \\big( y_{n} - t_{n} \\big) \\phi_{n} $$\n",
    "\n",
    "### ニュートン-ラフソン法による w の更新\n",
    "\n",
    "$$ w^{(new)} = w^{(old)} - \\big( \\Phi^{T}R\\Phi \\big)^{-1}\\Phi^{T}\\big(y - t\\big) $$\n",
    "$$ = \\big( \\Phi^{T}R\\Phi \\big)^{-1} \\big\\{ \\Phi^{T}R\\Phi w^{(old)} - \\Phi^{T}(y - t) \\big\\} $$\n",
    "$$ = \\big( \\Phi^{T}R\\Phi \\big)^{-1}\\Phi^{T}Rz $$\n",
    "\n",
    "重み付き最小二乗問題に対する正規方程式の集合。\n",
    "\n",
    "#### NxN の対角行列R\n",
    "\n",
    "$$ R_{nn} = y_{n} \\big( 1 - y_{n} \\big) $$\n",
    "\n",
    "パラメータ・ベクトル w に依存しているので、wが新しくなるたびに重み付け行列Rを計算し直す必要がある。\n",
    "\n",
    "#### N次元ベクトルN\n",
    "\n",
    "$$ z = \\Phi w^{(old)} - R^{-1}\\big( y - t \\big)$$\n",
    "\n",
    "このアルゴリズムを反復再重み付け最小二乗法( *iterative reweighted least squares method* = **IRLS** )\n",
    "\n",
    "変数空間\n",
    "\n",
    "$$ a = w^{T}\\phi $$\n",
    "\n",
    "内の線形化された問題の解としてIRLSを解釈することができる。\n",
    "そのときzのn番目の要素に相当する\n",
    "\n",
    "$$z_{n}$$\n",
    "\n",
    "は、ロジスティックシグモイド関数を現在の点\n",
    "\n",
    "$$w^{(old)}$$\n",
    "\n",
    "の周りで局所線形近似して得られる空間での目的変数であると解釈できる。\n",
    "\n",
    "$$ a_{n} \\big(w\\big)\\simeq a_{n} \\big( w^{(old)} \\big) + \\frac{da_{n}}{dy_{n}}|_{w^{(old)}}\\big( t_{n} - y_{n} \\big) $$\n",
    "$$ = \\phi_{n}^{T}w^{(old)} - \\frac{(y_{n} - t_{n})}{y_{n}(1 - y_{n})} = z_{n} $$"
   ]
  },
  {
   "cell_type": "markdown",
   "metadata": {},
   "source": [
    "## 参考書籍\n",
    "\n",
    "シュプリンガー パターン認識と機械学習"
   ]
  },
  {
   "cell_type": "code",
   "execution_count": null,
   "metadata": {
    "collapsed": true
   },
   "outputs": [],
   "source": []
  }
 ],
 "metadata": {
  "kernelspec": {
   "display_name": "Python 2",
   "language": "python",
   "name": "python2"
  },
  "language_info": {
   "codemirror_mode": {
    "name": "ipython",
    "version": 2
   },
   "file_extension": ".py",
   "mimetype": "text/x-python",
   "name": "python",
   "nbconvert_exporter": "python",
   "pygments_lexer": "ipython2",
   "version": "2.7.11"
  }
 },
 "nbformat": 4,
 "nbformat_minor": 0
}
